{
 "cells": [
  {
   "cell_type": "markdown",
   "metadata": {
    "slideshow": {
     "slide_type": "slide"
    }
   },
   "source": [
    "# Introduction\n",
    "\n",
    "## Course Information\n"
   ]
  },
  {
   "cell_type": "markdown",
   "metadata": {
    "slideshow": {
     "slide_type": "slide"
    }
   },
   "source": [
    "## What is Optimization?\n",
    "\n",
    "It is the __minimization__ or __maximization__ of a function subject to its variables satisfying certain constraints.\n",
    "\n",
    "* ### Examples:\n",
    " * In Business: to maximize profit, minimize loss, maximize efficiency, or minimize risk.\n",
    " * In Design:  minimize the weight of a bridge/truss, and maximize the strength, within the design constraints.\n",
    " * In Planning: select a flight route to minimize time or fuel consumption of an airplane\n",
    " * In Medicine: for example in diagnostic medical imaging one needs to minimize of radiation dosage a patient is exposed to.\n",
    " \n",
    " \n",
    " * ### Notes: \n",
    "  * optimization is usually referred to as __Mathematical programming__.\n",
    "  * optimization is an important __tool__ in life, science and engineering\n",
    "\n"
   ]
  },
  {
   "cell_type": "markdown",
   "metadata": {
    "cell_style": "center",
    "slideshow": {
     "slide_type": "subslide"
    }
   },
   "source": [
    "## Optimization Process\n",
    "\n",
    "1. ### Modeling\n",
    " -  identifying objective, variables, and constraints\n",
    " \n",
    "2. ### Characterizing the set of solutions and optimality conditions\n",
    " * Necessary conditions\n",
    " * Sufficient conditions\n",
    " * Lagrange multiplier theory\n",
    " * Sensitivity\n",
    " * Duality"
   ]
  },
  {
   "cell_type": "markdown",
   "metadata": {
    "cell_style": "center",
    "slideshow": {
     "slide_type": "subslide"
    }
   },
   "source": [
    "3. ### Algorithms and Computation by iterative algorithms\n",
    " - Iterative descent\n",
    " - Approximation methods\n",
    " - Dual and primal-dual methods\n",
    " \n",
    "\n",
    "4. ### Implementation\n"
   ]
  },
  {
   "cell_type": "markdown",
   "metadata": {
    "cell_style": "center",
    "slideshow": {
     "slide_type": "subslide"
    }
   },
   "source": [
    "5. ### Interpretation of results\n",
    " - improving by applying techniques such as __sensitivity analysis__, which reveals the sensitivity of the solution to changes in the model and data.\n",
    " - refine (improve or correct) the model. \n",
    " - the process repeats.\n"
   ]
  },
  {
   "cell_type": "markdown",
   "metadata": {
    "slideshow": {
     "slide_type": "slide"
    }
   },
   "source": [
    "## Mathematical Formulation\n",
    "$$\n",
    "\\min_{x \\in \\Omega} f(x)\n",
    "$$\n",
    "\n",
    "where \n",
    "* $x\\in \\mathbb{R}^n$ called the vector of variables, also called unknowns or parameters or decision variables.\n",
    "* $f: \\mathbb{R}^n \\to \\mathbb{R}$ called the __objective (or cost) function__\n",
    "* $\\Omega \\subseteq \\mathbb{R}^n$ called the set of __constraints__ the variable $X$ must satisfy, also called the __visible__ set."
   ]
  },
  {
   "cell_type": "markdown",
   "metadata": {
    "slideshow": {
     "slide_type": "slide"
    }
   },
   "source": [
    "## Classification\n",
    "see this [link](https://neos-guide.org/optimization-tree) for more.\n",
    "\n",
    "- ### Unconstrained vs Constrained\n",
    "    - this course deals with both\n",
    "- ### Continuous vs Discrete\n",
    "    - we deal with continuous only. \n",
    "- ### Smooth vs Nonsmooth\n",
    "    - we deal with smooth only.\n",
    "- ### Deterministic vs Stochastic\n",
    "    - We deal with deterministic only\n",
    "- ### No objective vs One objective vs Many objectives\n",
    "    - We deal with one objective"
   ]
  },
  {
   "cell_type": "markdown",
   "metadata": {
    "slideshow": {
     "slide_type": "slide"
    }
   },
   "source": [
    "## What is numerical optimization?\n",
    "\n",
    "It is an ever growing field of mathematics and computer science that lies on the intersection of numerical analysis and optimization theory from one side and algorithms and software engineering from another.\n",
    "\n",
    "I general, this deals with issues such as\n",
    "* Iterative descent\n",
    "* Approximation\n",
    "* Convergence analysis\n",
    "* Rate of convergence analysis\n",
    "* Using an existing package"
   ]
  },
  {
   "cell_type": "markdown",
   "metadata": {
    "slideshow": {
     "slide_type": "slide"
    }
   },
   "source": [
    "## Optimization Algorithms\n",
    "\n",
    "Optimization algorithms are iterative. Good algorithms should satisfy\n",
    "\n",
    "* __Robustness__. They should perform well on a wide variety of problems in their class, for all reasonable values of the starting point.\n",
    "* __Efficiency__. They should not require excessive computer time or storage.\n",
    "* __Accuracy__. They should be able to identify a solution with precision, without being overly sensitive to errors in the data or to the arithmetic rounding errors that occur when the algorithm is implemented on a computer\n",
    "\n",
    "Tradeoffs between convergence rate and storage requirements, and between robustness and speed, and so on, are central issues in numerical optimization. "
   ]
  },
  {
   "cell_type": "code",
   "execution_count": null,
   "metadata": {},
   "outputs": [],
   "source": []
  }
 ],
 "metadata": {
  "celltoolbar": "Slideshow",
  "kernelspec": {
   "display_name": "Julia 1.4.2",
   "language": "julia",
   "name": "julia-1.4"
  },
  "language_info": {
   "file_extension": ".jl",
   "mimetype": "application/julia",
   "name": "julia",
   "version": "1.4.2"
  }
 },
 "nbformat": 4,
 "nbformat_minor": 4
}
