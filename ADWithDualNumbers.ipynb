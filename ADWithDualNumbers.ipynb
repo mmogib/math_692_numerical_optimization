{
 "cells": [
  {
   "cell_type": "code",
   "execution_count": 1,
   "metadata": {},
   "outputs": [
    {
     "name": "stderr",
     "output_type": "stream",
     "text": [
      "\u001b[32m\u001b[1m Activating\u001b[22m\u001b[39m new environment at `C:\\Users\\mmogi\\Dropbox\\KFUPMWork\\Teaching\\OldSemesters\\Sem201\\MATH692\\lectures\\Project.toml`\n"
     ]
    }
   ],
   "source": [
    "using Pkg\n",
    "Pkg.activate(\".\")"
   ]
  },
  {
   "cell_type": "code",
   "execution_count": 2,
   "metadata": {},
   "outputs": [],
   "source": [
    "struct Dual <: Number\n",
    "    f:: Float64\n",
    "    df:: Float64\n",
    "end"
   ]
  },
  {
   "cell_type": "code",
   "execution_count": 4,
   "metadata": {},
   "outputs": [
    {
     "ename": "LoadError",
     "evalue": "+ not defined for Dual",
     "output_type": "error",
     "traceback": [
      "+ not defined for Dual",
      "",
      "Stacktrace:",
      " [1] error(::String, ::String, ::Type{T} where T) at .\\error.jl:42",
      " [2] no_op_err(::String, ::Type{T} where T) at .\\promotion.jl:383",
      " [3] +(::Dual, ::Dual) at .\\promotion.jl:384",
      " [4] top-level scope at In[4]:3",
      " [5] include_string(::Function, ::Module, ::String, ::String) at .\\loading.jl:1091"
     ]
    }
   ],
   "source": [
    "n1 = Dual(1,1)\n",
    "n2 = Dual(2,1)\n",
    "n1 + 2"
   ]
  },
  {
   "cell_type": "code",
   "execution_count": 5,
   "metadata": {},
   "outputs": [
    {
     "data": {
      "text/plain": [
       "repDual (generic function with 1 method)"
      ]
     },
     "execution_count": 5,
     "metadata": {},
     "output_type": "execute_result"
    }
   ],
   "source": [
    "function repDual(x::Dual)\n",
    "    if (x.df == 0)\n",
    "        string(x.f)\n",
    "    elseif (x.df<0)\n",
    "        string(x.f,\" - \", abs(x.df),\"ϵ\")\n",
    "    else\n",
    "        string(x.f,\" + \", x.df,\"ϵ\")\n",
    "    end\n",
    "end"
   ]
  },
  {
   "cell_type": "code",
   "execution_count": 6,
   "metadata": {},
   "outputs": [
    {
     "data": {
      "text/plain": [
       "show (generic function with 242 methods)"
      ]
     },
     "execution_count": 6,
     "metadata": {},
     "output_type": "execute_result"
    }
   ],
   "source": [
    "import Base: +, *, /, convert, promote_rule, sin, cos, exp, log, show\n",
    "convert(::Type{Dual}, x::Real) = Dual(x,zero(x))\n",
    "promote_rule(::Type{Dual}, ::Type{<:Number}) = Dual\n",
    "show(io::IO, x::Dual) = print(io, repDual(x))"
   ]
  },
  {
   "cell_type": "code",
   "execution_count": 7,
   "metadata": {},
   "outputs": [
    {
     "data": {
      "text/plain": [
       "1.0 + 1.0ϵ"
      ]
     },
     "execution_count": 7,
     "metadata": {},
     "output_type": "execute_result"
    }
   ],
   "source": [
    "n1"
   ]
  },
  {
   "cell_type": "code",
   "execution_count": 22,
   "metadata": {},
   "outputs": [
    {
     "data": {
      "text/plain": [
       "isless (generic function with 43 methods)"
      ]
     },
     "execution_count": 22,
     "metadata": {},
     "output_type": "execute_result"
    }
   ],
   "source": [
    "import Base: ==, >, <, isless\n",
    "==(x::Dual, y::Dual) = x.f==y.f\n",
    ">(x::Dual, y::Dual) = x.f>y.f\n",
    "<(x::Dual, y::Dual) = x.f<y.f\n",
    "isless(x::Dual, y::Number) = isless(x.f,y)\n",
    "isless(x::Number, y::Dual) = isless(x,y.f)"
   ]
  },
  {
   "cell_type": "code",
   "execution_count": 20,
   "metadata": {},
   "outputs": [
    {
     "data": {
      "text/plain": [
       "exp (generic function with 15 methods)"
      ]
     },
     "execution_count": 20,
     "metadata": {},
     "output_type": "execute_result"
    }
   ],
   "source": [
    "# overloading operators\n",
    "+(x::Dual, y::Dual) = Dual(x.f+y.f,x.df+y.df)\n",
    "*(x::Dual, y::Dual) = Dual(x.f*y.f, x.f*y.df+x.df*y.f)\n",
    "/(x::Dual, y::Dual) = Dual(x.f/y.f, (y.f*x.df-x.f*y.df)/(y.f)^2)\n",
    "cos(x::Dual) = Dual(cos(x.f), -sin(x.f)*x.df)\n",
    "sin(x::Dual) = Dual(sin(x.f), cos(x.f)*x.df)\n",
    "log(x::Dual) = Dual(log(x.f), (1/x.f)*x.df)\n",
    "exp(x::Dual) = Dual(exp(x.f), exp(x.f)*x.df)\n"
   ]
  },
  {
   "cell_type": "code",
   "execution_count": 14,
   "metadata": {},
   "outputs": [
    {
     "data": {
      "text/plain": [
       "(2.8600791305839928 - 2.267627908058511ϵ, 1.0 + 1.0ϵ)"
      ]
     },
     "execution_count": 14,
     "metadata": {},
     "output_type": "execute_result"
    }
   ],
   "source": [
    "f(x) = exp(sin(1/x^2))+cos(x)*x^2;\n",
    "f(n1),n1"
   ]
  },
  {
   "cell_type": "code",
   "execution_count": 15,
   "metadata": {},
   "outputs": [
    {
     "data": {
      "text/plain": [
       "somefunc (generic function with 1 method)"
      ]
     },
     "execution_count": 15,
     "metadata": {},
     "output_type": "execute_result"
    }
   ],
   "source": [
    "function somefunc(x)\n",
    "    if x<-2\n",
    "        cos(x)\n",
    "    elseif (-2<=x<=0)\n",
    "        log(abs(x)) + sin(x^3)\n",
    "    else\n",
    "        x^2\n",
    "    end\n",
    "end\n",
    "\n"
   ]
  },
  {
   "cell_type": "code",
   "execution_count": 25,
   "metadata": {},
   "outputs": [
    {
     "data": {
      "text/plain": [
       "4.0 + 4.0ϵ"
      ]
     },
     "execution_count": 25,
     "metadata": {},
     "output_type": "execute_result"
    }
   ],
   "source": [
    "somefunc(Dual(2,1))"
   ]
  }
 ],
 "metadata": {
  "@webio": {
   "lastCommId": null,
   "lastKernelId": null
  },
  "kernelspec": {
   "display_name": "Julia 1.5.0",
   "language": "julia",
   "name": "julia-1.5"
  },
  "language_info": {
   "file_extension": ".jl",
   "mimetype": "application/julia",
   "name": "julia",
   "version": "1.5.0"
  }
 },
 "nbformat": 4,
 "nbformat_minor": 4
}
