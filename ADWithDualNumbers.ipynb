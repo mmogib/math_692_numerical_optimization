{
 "cells": [
  {
   "cell_type": "code",
   "execution_count": null,
   "metadata": {},
   "outputs": [],
   "source": [
    "using Pkg\n",
    "Pkg.activate(\".\")"
   ]
  },
  {
   "cell_type": "code",
   "execution_count": null,
   "metadata": {},
   "outputs": [],
   "source": [
    "struct Dual <: Number\n",
    "    f:: Float64\n",
    "    df:: Float64\n",
    "end"
   ]
  },
  {
   "cell_type": "code",
   "execution_count": null,
   "metadata": {},
   "outputs": [],
   "source": [
    "function repDual(x::Dual)\n",
    "    if (x.df == 0)\n",
    "        string(x.f)\n",
    "    elseif (x.df<0)\n",
    "        string(x.f,\" - \", abs(x.df),\"ϵ\")\n",
    "    else\n",
    "        string(x.f,\" + \", x.df,\"ϵ\")\n",
    "    end\n",
    "end"
   ]
  },
  {
   "cell_type": "code",
   "execution_count": null,
   "metadata": {},
   "outputs": [],
   "source": [
    "import Base: +, *, /, convert, promote_rule, sin, cos, exp, log, show\n",
    "convert(::Type{Dual}, x::Real) = Dual(x,zero(x))\n",
    "promote_rule(::Type{Dual}, ::Type{<:Number}) = Dual\n",
    "show(io::IO, x::Dual) = print(io, repDual(x))"
   ]
  },
  {
   "cell_type": "code",
   "execution_count": null,
   "metadata": {},
   "outputs": [],
   "source": [
    "import Base: ==, >, <, isless\n",
    "==(x::Dual, y::Dual) = x.f==y.f\n",
    ">(x::Dual, y::Dual) = x.f>y.f\n",
    "<(x::Dual, y::Dual) = x.f<y.f\n",
    "isless(x::Dual, y::Number) = isless(x.f,y)\n",
    "isless(x::Number, y::Dual) = isless(x,y.f)"
   ]
  },
  {
   "cell_type": "code",
   "execution_count": null,
   "metadata": {},
   "outputs": [],
   "source": [
    "# overloading operators\n",
    "+(x::Dual, y::Dual) = \n",
    "*(x::Dual, y::Dual) = \n",
    "/(x::Dual, y::Dual) = \n",
    "cos(x::Dual) = \n",
    "sin(x::Dual) = \n",
    "log(x::Dual) = \n",
    "exp(x::Dual) = \n"
   ]
  }
 ],
 "metadata": {
  "@webio": {
   "lastCommId": null,
   "lastKernelId": null
  },
  "kernelspec": {
   "display_name": "Julia 1.5.0",
   "language": "julia",
   "name": "julia-1.5"
  },
  "language_info": {
   "file_extension": ".jl",
   "mimetype": "application/julia",
   "name": "julia",
   "version": "1.5.0"
  }
 },
 "nbformat": 4,
 "nbformat_minor": 4
}
